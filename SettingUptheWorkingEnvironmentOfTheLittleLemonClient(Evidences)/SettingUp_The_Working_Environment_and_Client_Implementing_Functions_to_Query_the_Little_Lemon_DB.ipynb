{
 "cells": [
  {
   "cell_type": "markdown",
   "source": [
    "---\n",
    "\n",
    "📓 Using Jupyter Notebook: Little Lemon Booking System Exercises\n",
    "\n",
    "\n",
    "---\n",
    "\n",
    "📘 Exercise 1: Set up the client project\n",
    "\n",
    "🔹 Overview\n",
    "\n",
    "In this first exercise, we will prepare your working environment for developing Little Lemon’s Booking System.\n",
    "We will:\n",
    "\n",
    "1. Verify Python installation.\n",
    "\n",
    "\n",
    "2. Install and launch Jupyter Notebook.\n",
    "\n",
    "\n",
    "3. Install MySQL Connector/Python and test a database connection.\n",
    "\n",
    "\n"
   ],
   "metadata": {}
  },
  {
   "cell_type": "markdown",
   "source": [
    "---\n",
    "\n",
    "📝 Task 1: Verify Python Installation\n",
    "\n",
    "Check if Python 3 is installed and available in our system path."
   ],
   "metadata": {}
  },
  {
   "cell_type": "code",
   "execution_count": null,
   "source": [
    "python --version"
   ],
   "outputs": [],
   "metadata": {}
  },
  {
   "cell_type": "markdown",
   "source": [
    "---\n",
    "\n",
    "📝 Task 2: Install and Launch Jupyter Notebook\n",
    "\n",
    "Install Jupyter Notebook using pip, then launch it:\n"
   ],
   "metadata": {}
  },
  {
   "cell_type": "code",
   "execution_count": null,
   "source": [
    "python -m pip install jupyter\n",
    "\n",
    "jupyter notebook"
   ],
   "outputs": [],
   "metadata": {}
  },
  {
   "cell_type": "markdown",
   "source": [
    "In Jupyter, create a new notebook with Python 3 (ipykernel) to start coding.\n",
    "\n",
    "\n",
    "---"
   ],
   "metadata": {}
  },
  {
   "cell_type": "markdown",
   "source": [
    "\n",
    "📝 Task 3: Connect Python to MySQL\n",
    "\n",
    "Steps:\n",
    "\n",
    "1. Install mysql-connector-python.\n",
    "\n",
    "\n",
    "2. Import the connector module.\n",
    "\n",
    "\n",
    "3. Establish a connection to your MySQL database.\n",
    "\n",
    "\n"
   ],
   "metadata": {}
  },
  {
   "cell_type": "code",
   "execution_count": 5,
   "source": [
    "# Step 1: Install MySQL Connector\n",
    "!pip install mysql-connector-python\n",
    "print(\"\\nThe Connector between Python and MySQL has been successfully installed.\\n\")\n",
    "# Step 2: Import connector\n",
    "import mysql.connector as connector\n",
    "\n",
    "# Step 3: Connect to the database\n",
    "connection = connector.connect(\n",
    "    user=\"root\", \n",
    "        password=\"\"\n",
    "        )\n",
    "\n",
    "print(\"Connection successful:\", connection.is_connected())"
   ],
   "outputs": [
    {
     "output_type": "stream",
     "name": "stdout",
     "text": [
      "Requirement already satisfied: mysql-connector-python in /home/coder/.local/lib/python3.8/site-packages (9.0.0)\n",
      "\n",
      "The Connector between Python and MySQL has been successfully installed.\n",
      "\n",
      "Connection successful: True\n"
     ]
    }
   ],
   "metadata": {}
  },
  {
   "cell_type": "markdown",
   "source": [
    "---\n",
    "\n",
    "📘 Exercise 2: Add query functions\n",
    "\n",
    "🔹 Overview\n",
    "\n",
    "In this exercise, we will add query functionality to the booking system.\n",
    "We will:\n",
    "\n",
    "1. Connect to the database.\n",
    "\n",
    "\n",
    "2. Show all tables.\n",
    "\n",
    "\n",
    "3. Run a query with a JOIN to extract customer details.\n",
    "\n",
    "\n"
   ],
   "metadata": {}
  },
  {
   "cell_type": "markdown",
   "source": [
    "---\n",
    "\n",
    "📝 Task 1: Connect to the Database\n",
    "\n",
    "Extend your environment to connect with the database, specifying the database name when creating the connection."
   ],
   "metadata": {}
  },
  {
   "cell_type": "code",
   "execution_count": 6,
   "source": [
    "import mysql.connector as connector\n",
    "\n",
    "# Connect directly to the \"little_lemon\" database\n",
    "connection = connector.connect(\n",
    "    user=\"root\", \n",
    "    password=\"\", \n",
    "    db=\"little_lemon\"\n",
    ")\n",
    "\n",
    "cursor = connection.cursor()\n",
    "print(\"Database connection established.\")\n"
   ],
   "outputs": [
    {
     "output_type": "stream",
     "name": "stdout",
     "text": [
      "Database connection established.\n"
     ]
    }
   ],
   "metadata": {}
  },
  {
   "cell_type": "markdown",
   "source": [
    "---\n",
    "\n",
    "📝 Task 2: Show All Tables\n",
    "\n",
    "Run a query to display all tables in the database.\n"
   ],
   "metadata": {}
  },
  {
   "cell_type": "code",
   "execution_count": 7,
   "source": [
    "# Query to show all tables\n",
    "show_tables_query = \"SHOW TABLES\"\n",
    "cursor.execute(show_tables_query)\n",
    "\n",
    "# Fetch and display results\n",
    "results = cursor.fetchall()\n",
    "print(\"Tables in the database:\")\n",
    "for table in results:\n",
    "    print(table[0])"
   ],
   "outputs": [
    {
     "output_type": "stream",
     "name": "stdout",
     "text": [
      "Tables in the database:\n",
      "Bookings\n",
      "MenuItems\n",
      "Menus\n",
      "Orders\n"
     ]
    }
   ],
   "metadata": {}
  },
  {
   "cell_type": "markdown",
   "source": [
    "---\n",
    "\n",
    "📝 Task 3: Query with Table JOIN\n",
    "\n",
    "Retrieve the full name, contact details, and bill amount for customers who spent more than $60.\n",
    "\n",
    "Steps:\n",
    "\n",
    "1. Select relevant attributes (FullName, ContactNumber, TotalCost).\n",
    "\n",
    "\n",
    "2. Join Customers and Orders on CustomerID.\n",
    "\n",
    "\n",
    "3. Filter results with WHERE TotalCost > 60.\n"
   ],
   "metadata": {}
  },
  {
   "cell_type": "code",
   "execution_count": 8,
   "source": [
    "# JOIN query\n",
    "join_query = \"\"\"\n",
    "SELECT \n",
    "    Customers.FullName,\n",
    "    Customers.ContactNumber,\n",
    "    Orders.TotalCost\n",
    "FROM Customers\n",
    "INNER JOIN Orders \n",
    "    ON Customers.CustomerID = Orders.CustomerID\n",
    "WHERE Orders.TotalCost > 60;\n",
    "\"\"\"\n",
    "\n",
    "cursor.execute(join_query)\n",
    "results = cursor.fetchall()\n",
    "\n",
    "print(\"Customers who spent more than $60:\")\n",
    "for row in results:\n",
    "    name, contact, total = row\n",
    "    print(f\"Name: {name}, Contact: {contact}, Total Spent: ${total}\")"
   ],
   "outputs": [
    {
     "output_type": "error",
     "ename": "ProgrammingError",
     "evalue": "1146 (42S02): Table 'little_lemon.Customers' doesn't exist",
     "traceback": [
      "\u001b[0;31m---------------------------------------------------------------------------\u001b[0m",
      "\u001b[0;31mProgrammingError\u001b[0m                          Traceback (most recent call last)",
      "Cell \u001b[0;32mIn[8], line 13\u001b[0m\n\u001b[1;32m      1\u001b[0m \u001b[38;5;66;03m# JOIN query\u001b[39;00m\n\u001b[1;32m      2\u001b[0m join_query \u001b[38;5;241m=\u001b[39m \u001b[38;5;124m\"\"\"\u001b[39m\n\u001b[1;32m      3\u001b[0m \u001b[38;5;124mSELECT \u001b[39m\n\u001b[1;32m      4\u001b[0m \u001b[38;5;124m    Customers.FullName,\u001b[39m\n\u001b[0;32m   (...)\u001b[0m\n\u001b[1;32m     10\u001b[0m \u001b[38;5;124mWHERE Orders.TotalCost > 60;\u001b[39m\n\u001b[1;32m     11\u001b[0m \u001b[38;5;124m\"\"\"\u001b[39m\n\u001b[0;32m---> 13\u001b[0m \u001b[43mcursor\u001b[49m\u001b[38;5;241;43m.\u001b[39;49m\u001b[43mexecute\u001b[49m\u001b[43m(\u001b[49m\u001b[43mjoin_query\u001b[49m\u001b[43m)\u001b[49m\n\u001b[1;32m     14\u001b[0m results \u001b[38;5;241m=\u001b[39m cursor\u001b[38;5;241m.\u001b[39mfetchall()\n\u001b[1;32m     16\u001b[0m \u001b[38;5;28mprint\u001b[39m(\u001b[38;5;124m\"\u001b[39m\u001b[38;5;124mCustomers who spent more than $60:\u001b[39m\u001b[38;5;124m\"\u001b[39m)\n",
      "File \u001b[0;32m~/.local/lib/python3.8/site-packages/mysql/connector/cursor.py:537\u001b[0m, in \u001b[0;36mMySQLCursor.execute\u001b[0;34m(self, operation, params, multi)\u001b[0m\n\u001b[1;32m    534\u001b[0m     \u001b[38;5;28;01mreturn\u001b[39;00m \u001b[38;5;28mself\u001b[39m\u001b[38;5;241m.\u001b[39m_execute_iter(\u001b[38;5;28mself\u001b[39m\u001b[38;5;241m.\u001b[39m_connection\u001b[38;5;241m.\u001b[39mcmd_query_iter(stmt))\n\u001b[1;32m    536\u001b[0m \u001b[38;5;28;01mtry\u001b[39;00m:\n\u001b[0;32m--> 537\u001b[0m     \u001b[38;5;28mself\u001b[39m\u001b[38;5;241m.\u001b[39m_handle_result(\u001b[38;5;28;43mself\u001b[39;49m\u001b[38;5;241;43m.\u001b[39;49m\u001b[43m_connection\u001b[49m\u001b[38;5;241;43m.\u001b[39;49m\u001b[43mcmd_query\u001b[49m\u001b[43m(\u001b[49m\u001b[43mstmt\u001b[49m\u001b[43m)\u001b[49m)\n\u001b[1;32m    538\u001b[0m \u001b[38;5;28;01mexcept\u001b[39;00m InterfaceError \u001b[38;5;28;01mas\u001b[39;00m err:\n\u001b[1;32m    539\u001b[0m     \u001b[38;5;28;01mif\u001b[39;00m \u001b[38;5;28mself\u001b[39m\u001b[38;5;241m.\u001b[39m_connection\u001b[38;5;241m.\u001b[39mhave_next_result:\n",
      "File \u001b[0;32m~/.local/lib/python3.8/site-packages/mysql/connector/opentelemetry/context_propagation.py:97\u001b[0m, in \u001b[0;36mwith_context_propagation.<locals>.wrapper\u001b[0;34m(cnx, *args, **kwargs)\u001b[0m\n\u001b[1;32m     95\u001b[0m \u001b[38;5;66;03m# pylint: disable=possibly-used-before-assignment\u001b[39;00m\n\u001b[1;32m     96\u001b[0m \u001b[38;5;28;01mif\u001b[39;00m \u001b[38;5;129;01mnot\u001b[39;00m OTEL_ENABLED \u001b[38;5;129;01mor\u001b[39;00m \u001b[38;5;129;01mnot\u001b[39;00m cnx\u001b[38;5;241m.\u001b[39motel_context_propagation:\n\u001b[0;32m---> 97\u001b[0m     \u001b[38;5;28;01mreturn\u001b[39;00m \u001b[43mmethod\u001b[49m\u001b[43m(\u001b[49m\u001b[43mcnx\u001b[49m\u001b[43m,\u001b[49m\u001b[43m \u001b[49m\u001b[38;5;241;43m*\u001b[39;49m\u001b[43margs\u001b[49m\u001b[43m,\u001b[49m\u001b[43m \u001b[49m\u001b[38;5;241;43m*\u001b[39;49m\u001b[38;5;241;43m*\u001b[39;49m\u001b[43mkwargs\u001b[49m\u001b[43m)\u001b[49m\n\u001b[1;32m     99\u001b[0m current_span \u001b[38;5;241m=\u001b[39m trace\u001b[38;5;241m.\u001b[39mget_current_span()\n\u001b[1;32m    100\u001b[0m tp_header \u001b[38;5;241m=\u001b[39m \u001b[38;5;28;01mNone\u001b[39;00m\n",
      "File \u001b[0;32m~/.local/lib/python3.8/site-packages/mysql/connector/connection.py:859\u001b[0m, in \u001b[0;36mMySQLConnection.cmd_query\u001b[0;34m(self, query, raw, buffered, raw_as_string)\u001b[0m\n\u001b[1;32m    857\u001b[0m query \u001b[38;5;241m=\u001b[39m \u001b[38;5;28mbytes\u001b[39m(packet)\n\u001b[1;32m    858\u001b[0m \u001b[38;5;28;01mtry\u001b[39;00m:\n\u001b[0;32m--> 859\u001b[0m     result \u001b[38;5;241m=\u001b[39m \u001b[38;5;28;43mself\u001b[39;49m\u001b[38;5;241;43m.\u001b[39;49m\u001b[43m_handle_result\u001b[49m\u001b[43m(\u001b[49m\u001b[38;5;28;43mself\u001b[39;49m\u001b[38;5;241;43m.\u001b[39;49m\u001b[43m_send_cmd\u001b[49m\u001b[43m(\u001b[49m\u001b[43mServerCmd\u001b[49m\u001b[38;5;241;43m.\u001b[39;49m\u001b[43mQUERY\u001b[49m\u001b[43m,\u001b[49m\u001b[43m \u001b[49m\u001b[43mquery\u001b[49m\u001b[43m)\u001b[49m\u001b[43m)\u001b[49m\n\u001b[1;32m    860\u001b[0m \u001b[38;5;28;01mexcept\u001b[39;00m ProgrammingError \u001b[38;5;28;01mas\u001b[39;00m err:\n\u001b[1;32m    861\u001b[0m     \u001b[38;5;28;01mif\u001b[39;00m err\u001b[38;5;241m.\u001b[39merrno \u001b[38;5;241m==\u001b[39m \u001b[38;5;241m3948\u001b[39m \u001b[38;5;129;01mand\u001b[39;00m \u001b[38;5;124m\"\u001b[39m\u001b[38;5;124mLoading local data is disabled\u001b[39m\u001b[38;5;124m\"\u001b[39m \u001b[38;5;129;01min\u001b[39;00m err\u001b[38;5;241m.\u001b[39mmsg:\n",
      "File \u001b[0;32m~/.local/lib/python3.8/site-packages/mysql/connector/connection.py:635\u001b[0m, in \u001b[0;36mMySQLConnection._handle_result\u001b[0;34m(self, packet)\u001b[0m\n\u001b[1;32m    633\u001b[0m     \u001b[38;5;28;01mreturn\u001b[39;00m \u001b[38;5;28mself\u001b[39m\u001b[38;5;241m.\u001b[39m_handle_eof(packet)\n\u001b[1;32m    634\u001b[0m \u001b[38;5;28;01mif\u001b[39;00m packet[\u001b[38;5;241m4\u001b[39m] \u001b[38;5;241m==\u001b[39m \u001b[38;5;241m255\u001b[39m:\n\u001b[0;32m--> 635\u001b[0m     \u001b[38;5;28;01mraise\u001b[39;00m get_exception(packet)\n\u001b[1;32m    637\u001b[0m \u001b[38;5;66;03m# We have a text result set\u001b[39;00m\n\u001b[1;32m    638\u001b[0m column_count \u001b[38;5;241m=\u001b[39m \u001b[38;5;28mself\u001b[39m\u001b[38;5;241m.\u001b[39m_protocol\u001b[38;5;241m.\u001b[39mparse_column_count(packet)\n",
      "\u001b[0;31mProgrammingError\u001b[0m: 1146 (42S02): Table 'little_lemon.Customers' doesn't exist"
     ]
    }
   ],
   "metadata": {}
  },
  {
   "cell_type": "markdown",
   "source": [
    "---\n",
    "\n",
    "# 🎯 Conclusion\n",
    "\n",
    "**In Exercise 1, we configured our Python + Jupyter + MySQL environment.**\n",
    "\n",
    "\n",
    "**In Exercise 2, we added query functionality:**\n"
   ],
   "metadata": {}
  },
  {
   "cell_type": "markdown",
   "source": [
    "\n",
    "\n",
    "\n",
    "Verified the database tables.\n",
    "\n",
    "Queried customers with orders greater than $60 using a JOIN.\n",
    "\n",
    "\n",
    "\n",
    "This foundation will allow us to build a fully functional booking system for Little Lemon."
   ],
   "metadata": {}
  }
 ],
 "metadata": {
  "orig_nbformat": 4,
  "language_info": {
   "name": "python",
   "version": "3.8.10",
   "mimetype": "text/x-python",
   "codemirror_mode": {
    "name": "ipython",
    "version": 3
   },
   "pygments_lexer": "ipython3",
   "nbconvert_exporter": "python",
   "file_extension": ".py"
  },
  "kernelspec": {
   "name": "python3",
   "display_name": "Python 3.8.10 64-bit"
  },
  "interpreter": {
   "hash": "31f2aee4e71d21fbe5cf8b01ff0e069b9275f58929596ceb00d14d90e3e16cd6"
  }
 },
 "nbformat": 4,
 "nbformat_minor": 2
}